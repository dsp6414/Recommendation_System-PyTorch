{
  "nbformat": 4,
  "nbformat_minor": 0,
  "metadata": {
    "colab": {
      "name": "run_main",
      "provenance": [],
      "collapsed_sections": [],
      "mount_file_id": "1qQSm7mhhKeKYxT5N7NlBlQL53NWpXGGf",
      "authorship_tag": "ABX9TyMBIXkIz+ZDFpqxy/QuSK+R",
      "include_colab_link": true
    },
    "kernelspec": {
      "name": "python3",
      "display_name": "Python 3"
    }
  },
  "cells": [
    {
      "cell_type": "markdown",
      "metadata": {
        "id": "view-in-github",
        "colab_type": "text"
      },
      "source": [
        "<a href=\"https://colab.research.google.com/github/hyunjoonbok/Recommendation_System-PyTorch/blob/master/run_main.ipynb\" target=\"_parent\"><img src=\"https://colab.research.google.com/assets/colab-badge.svg\" alt=\"Open In Colab\"/></a>"
      ]
    },
    {
      "cell_type": "code",
      "metadata": {
        "id": "RWdfgJpAul8Y",
        "colab_type": "code",
        "colab": {}
      },
      "source": [
        "%load_ext tensorboard"
      ],
      "execution_count": 0,
      "outputs": []
    },
    {
      "cell_type": "code",
      "metadata": {
        "id": "5d_NSvz6uy3_",
        "colab_type": "code",
        "colab": {
          "base_uri": "https://localhost:8080/",
          "height": 1000
        },
        "outputId": "cb6f8933-5a59-4d99-ffdc-4d759ee4a148"
      },
      "source": [
        "!python3 './drive/My Drive/Python/Recommendation_System-PyTorch/main.py' \\\n",
        "--data_dir './drive/My Drive/Python/Recommendation_System-PyTorch/data' \\\n",
        "--save_dir './drive/My Drive/Python/Recommendation_System-PyTorch/saves' \\\n",
        "--conf_dir './drive/My Drive/Python/Recommendation_System-PyTorch/conf' \\\n",
        "--seed 623"
      ],
      "execution_count": 21,
      "outputs": [
        {
          "output_type": "stream",
          "text": [
            "Already preprocessed. Load from file.\n",
            "Read movielens data from ./drive/My Drive/Python/Recommendation_System-PyTorch/data/ml-100k/ml-100k.data\n",
            "======== [Config] ========\n",
            "path: ./drive/My Drive/Python/Recommendation_System-PyTorch/conf/slim.json\n",
            "data_name: ml-100k\n",
            "train_ratio: 0.8\n",
            "l1_reg: 0.001\n",
            "l2_reg: 0.001\n",
            "topk: 100\n",
            "num_epochs: 1\n",
            "batch_size: 4096\n",
            "test_batch_size: 4096\n",
            "learning_rate: 0.01\n",
            "early_stop: True\n",
            "patience: 50\n",
            "top_k: [100]\n",
            "exp_conf: {'model': 'SLIM', 'data_dir': './drive/My Drive/Python/Recommendation_System-PyTorch/data', 'save_dir': './drive/My Drive/Python/Recommendation_System-PyTorch/saves', 'conf_dir': './drive/My Drive/Python/Recommendation_System-PyTorch/conf', 'seed': 623}\n",
            "\n",
            "\n",
            "======== [Dataset] ========\n",
            "Number of Users : 943\n",
            "Number of items : 1682\n",
            "Split ratio: 0.8\n",
            "\n",
            "\n",
            "======== [Config] ========\n",
            "path: ./drive/My Drive/Python/Recommendation_System-PyTorch/conf/slim.json\n",
            "data_name: ml-100k\n",
            "train_ratio: 0.8\n",
            "l1_reg: 0.001\n",
            "l2_reg: 0.001\n",
            "topk: 100\n",
            "num_epochs: 1\n",
            "batch_size: 4096\n",
            "test_batch_size: 4096\n",
            "learning_rate: 0.01\n",
            "early_stop: True\n",
            "patience: 50\n",
            "top_k: [100]\n",
            "exp_conf: {'model': 'SLIM', 'data_dir': './drive/My Drive/Python/Recommendation_System-PyTorch/data', 'save_dir': './drive/My Drive/Python/Recommendation_System-PyTorch/saves', 'conf_dir': './drive/My Drive/Python/Recommendation_System-PyTorch/conf', 'seed': 623}\n",
            "\n",
            "\n",
            "# items covered:  86% 1449/1682 [00:06<00:00, 256.66it/s]/usr/local/lib/python3.6/dist-packages/sklearn/linear_model/_coordinate_descent.py:460: ConvergenceWarning: Objective did not converge. You might want to increase the number of iterations. Duality gap: 0.0, tolerance: 0.0\n",
            "  max_iter, tol, rng, random, positive)\n",
            "# items covered:  88% 1475/1682 [00:06<00:01, 198.00it/s]/usr/local/lib/python3.6/dist-packages/sklearn/linear_model/_coordinate_descent.py:460: ConvergenceWarning: Objective did not converge. You might want to increase the number of iterations. Duality gap: 0.0, tolerance: 0.0\n",
            "  max_iter, tol, rng, random, positive)\n",
            "# items covered:  89% 1499/1682 [00:07<00:01, 170.70it/s]/usr/local/lib/python3.6/dist-packages/sklearn/linear_model/_coordinate_descent.py:460: ConvergenceWarning: Objective did not converge. You might want to increase the number of iterations. Duality gap: 0.0, tolerance: 0.0\n",
            "  max_iter, tol, rng, random, positive)\n",
            "/usr/local/lib/python3.6/dist-packages/sklearn/linear_model/_coordinate_descent.py:460: ConvergenceWarning: Objective did not converge. You might want to increase the number of iterations. Duality gap: 0.0, tolerance: 0.0\n",
            "  max_iter, tol, rng, random, positive)\n",
            "# items covered:  90% 1519/1682 [00:07<00:01, 122.52it/s]/usr/local/lib/python3.6/dist-packages/sklearn/linear_model/_coordinate_descent.py:460: ConvergenceWarning: Objective did not converge. You might want to increase the number of iterations. Duality gap: 0.0, tolerance: 0.0\n",
            "  max_iter, tol, rng, random, positive)\n",
            "# items covered:  91% 1538/1682 [00:07<00:01, 117.30it/s]/usr/local/lib/python3.6/dist-packages/sklearn/linear_model/_coordinate_descent.py:460: ConvergenceWarning: Objective did not converge. You might want to increase the number of iterations. Duality gap: 0.0, tolerance: 0.0\n",
            "  max_iter, tol, rng, random, positive)\n",
            "/usr/local/lib/python3.6/dist-packages/sklearn/linear_model/_coordinate_descent.py:460: ConvergenceWarning: Objective did not converge. You might want to increase the number of iterations. Duality gap: 0.0, tolerance: 0.0\n",
            "  max_iter, tol, rng, random, positive)\n",
            "# items covered:  92% 1553/1682 [00:07<00:01, 89.75it/s] /usr/local/lib/python3.6/dist-packages/sklearn/linear_model/_coordinate_descent.py:460: ConvergenceWarning: Objective did not converge. You might want to increase the number of iterations. Duality gap: 0.0, tolerance: 0.0\n",
            "  max_iter, tol, rng, random, positive)\n",
            "/usr/local/lib/python3.6/dist-packages/sklearn/linear_model/_coordinate_descent.py:460: ConvergenceWarning: Objective did not converge. You might want to increase the number of iterations. Duality gap: 0.0, tolerance: 0.0\n",
            "  max_iter, tol, rng, random, positive)\n",
            "/usr/local/lib/python3.6/dist-packages/sklearn/linear_model/_coordinate_descent.py:460: ConvergenceWarning: Objective did not converge. You might want to increase the number of iterations. Duality gap: 0.0, tolerance: 0.0\n",
            "  max_iter, tol, rng, random, positive)\n",
            "/usr/local/lib/python3.6/dist-packages/sklearn/linear_model/_coordinate_descent.py:460: ConvergenceWarning: Objective did not converge. You might want to increase the number of iterations. Duality gap: 0.0, tolerance: 0.0\n",
            "  max_iter, tol, rng, random, positive)\n",
            "# items covered:  93% 1565/1682 [00:08<00:02, 53.81it/s]/usr/local/lib/python3.6/dist-packages/sklearn/linear_model/_coordinate_descent.py:460: ConvergenceWarning: Objective did not converge. You might want to increase the number of iterations. Duality gap: 0.0, tolerance: 0.0\n",
            "  max_iter, tol, rng, random, positive)\n",
            "# items covered:  94% 1579/1682 [00:08<00:01, 60.80it/s]/usr/local/lib/python3.6/dist-packages/sklearn/linear_model/_coordinate_descent.py:460: ConvergenceWarning: Objective did not converge. You might want to increase the number of iterations. Duality gap: 0.0, tolerance: 0.0\n",
            "  max_iter, tol, rng, random, positive)\n",
            "/usr/local/lib/python3.6/dist-packages/sklearn/linear_model/_coordinate_descent.py:460: ConvergenceWarning: Objective did not converge. You might want to increase the number of iterations. Duality gap: 0.0, tolerance: 0.0\n",
            "  max_iter, tol, rng, random, positive)\n",
            "/usr/local/lib/python3.6/dist-packages/sklearn/linear_model/_coordinate_descent.py:460: ConvergenceWarning: Objective did not converge. You might want to increase the number of iterations. Duality gap: 0.0, tolerance: 0.0\n",
            "  max_iter, tol, rng, random, positive)\n",
            "# items covered:  94% 1588/1682 [00:08<00:02, 44.82it/s]/usr/local/lib/python3.6/dist-packages/sklearn/linear_model/_coordinate_descent.py:460: ConvergenceWarning: Objective did not converge. You might want to increase the number of iterations. Duality gap: 0.0, tolerance: 0.0\n",
            "  max_iter, tol, rng, random, positive)\n",
            "/usr/local/lib/python3.6/dist-packages/sklearn/linear_model/_coordinate_descent.py:460: ConvergenceWarning: Objective did not converge. You might want to increase the number of iterations. Duality gap: 0.0, tolerance: 0.0\n",
            "  max_iter, tol, rng, random, positive)\n",
            "# items covered:  95% 1596/1682 [00:08<00:02, 41.65it/s]/usr/local/lib/python3.6/dist-packages/sklearn/linear_model/_coordinate_descent.py:460: ConvergenceWarning: Objective did not converge. You might want to increase the number of iterations. Duality gap: 0.0, tolerance: 0.0\n",
            "  max_iter, tol, rng, random, positive)\n",
            "/usr/local/lib/python3.6/dist-packages/sklearn/linear_model/_coordinate_descent.py:460: ConvergenceWarning: Objective did not converge. You might want to increase the number of iterations. Duality gap: 0.0, tolerance: 0.0\n",
            "  max_iter, tol, rng, random, positive)\n",
            "# items covered:  95% 1603/1682 [00:09<00:02, 38.50it/s]/usr/local/lib/python3.6/dist-packages/sklearn/linear_model/_coordinate_descent.py:460: ConvergenceWarning: Objective did not converge. You might want to increase the number of iterations. Duality gap: 0.0, tolerance: 0.0\n",
            "  max_iter, tol, rng, random, positive)\n",
            "/usr/local/lib/python3.6/dist-packages/sklearn/linear_model/_coordinate_descent.py:460: ConvergenceWarning: Objective did not converge. You might want to increase the number of iterations. Duality gap: 0.0, tolerance: 0.0\n",
            "  max_iter, tol, rng, random, positive)\n",
            "/usr/local/lib/python3.6/dist-packages/sklearn/linear_model/_coordinate_descent.py:460: ConvergenceWarning: Objective did not converge. You might want to increase the number of iterations. Duality gap: 0.0, tolerance: 0.0\n",
            "  max_iter, tol, rng, random, positive)\n",
            "/usr/local/lib/python3.6/dist-packages/sklearn/linear_model/_coordinate_descent.py:460: ConvergenceWarning: Objective did not converge. You might want to increase the number of iterations. Duality gap: 0.0, tolerance: 0.0\n",
            "  max_iter, tol, rng, random, positive)\n",
            "# items covered:  96% 1609/1682 [00:09<00:02, 26.35it/s]/usr/local/lib/python3.6/dist-packages/sklearn/linear_model/_coordinate_descent.py:460: ConvergenceWarning: Objective did not converge. You might want to increase the number of iterations. Duality gap: 0.0, tolerance: 0.0\n",
            "  max_iter, tol, rng, random, positive)\n",
            "# items covered:  96% 1614/1682 [00:09<00:02, 30.16it/s]/usr/local/lib/python3.6/dist-packages/sklearn/linear_model/_coordinate_descent.py:460: ConvergenceWarning: Objective did not converge. You might want to increase the number of iterations. Duality gap: 0.0, tolerance: 0.0\n",
            "  max_iter, tol, rng, random, positive)\n",
            "# items covered:  96% 1619/1682 [00:09<00:01, 33.26it/s]/usr/local/lib/python3.6/dist-packages/sklearn/linear_model/_coordinate_descent.py:460: ConvergenceWarning: Objective did not converge. You might want to increase the number of iterations. Duality gap: 0.0, tolerance: 0.0\n",
            "  max_iter, tol, rng, random, positive)\n",
            "# items covered:  97% 1624/1682 [00:09<00:01, 35.04it/s]/usr/local/lib/python3.6/dist-packages/sklearn/linear_model/_coordinate_descent.py:460: ConvergenceWarning: Objective did not converge. You might want to increase the number of iterations. Duality gap: 0.0, tolerance: 0.0\n",
            "  max_iter, tol, rng, random, positive)\n",
            "# items covered:  97% 1629/1682 [00:10<00:01, 37.57it/s]/usr/local/lib/python3.6/dist-packages/sklearn/linear_model/_coordinate_descent.py:460: ConvergenceWarning: Objective did not converge. You might want to increase the number of iterations. Duality gap: 0.0, tolerance: 0.0\n",
            "  max_iter, tol, rng, random, positive)\n",
            "# items covered:  97% 1634/1682 [00:10<00:01, 39.72it/s]/usr/local/lib/python3.6/dist-packages/sklearn/linear_model/_coordinate_descent.py:460: ConvergenceWarning: Objective did not converge. You might want to increase the number of iterations. Duality gap: 0.0, tolerance: 0.0\n",
            "  max_iter, tol, rng, random, positive)\n",
            "/usr/local/lib/python3.6/dist-packages/sklearn/linear_model/_coordinate_descent.py:460: ConvergenceWarning: Objective did not converge. You might want to increase the number of iterations. Duality gap: 0.0, tolerance: 0.0\n",
            "  max_iter, tol, rng, random, positive)\n",
            "# items covered:  97% 1639/1682 [00:10<00:01, 33.51it/s]/usr/local/lib/python3.6/dist-packages/sklearn/linear_model/_coordinate_descent.py:460: ConvergenceWarning: Objective did not converge. You might want to increase the number of iterations. Duality gap: 0.0, tolerance: 0.0\n",
            "  max_iter, tol, rng, random, positive)\n",
            "# items covered:  98% 1643/1682 [00:10<00:01, 34.38it/s]/usr/local/lib/python3.6/dist-packages/sklearn/linear_model/_coordinate_descent.py:460: ConvergenceWarning: Objective did not converge. You might want to increase the number of iterations. Duality gap: 0.0, tolerance: 0.0\n",
            "  max_iter, tol, rng, random, positive)\n",
            "# items covered:  98% 1653/1682 [00:10<00:00, 40.73it/s]/usr/local/lib/python3.6/dist-packages/sklearn/linear_model/_coordinate_descent.py:460: ConvergenceWarning: Objective did not converge. You might want to increase the number of iterations. Duality gap: 0.0, tolerance: 0.0\n",
            "  max_iter, tol, rng, random, positive)\n",
            "# items covered:  99% 1662/1682 [00:10<00:00, 46.54it/s]/usr/local/lib/python3.6/dist-packages/sklearn/linear_model/_coordinate_descent.py:460: ConvergenceWarning: Objective did not converge. You might want to increase the number of iterations. Duality gap: 0.0, tolerance: 0.0\n",
            "  max_iter, tol, rng, random, positive)\n",
            "# items covered:  99% 1668/1682 [00:10<00:00, 47.13it/s]/usr/local/lib/python3.6/dist-packages/sklearn/linear_model/_coordinate_descent.py:460: ConvergenceWarning: Objective did not converge. You might want to increase the number of iterations. Duality gap: 0.0, tolerance: 0.0\n",
            "  max_iter, tol, rng, random, positive)\n",
            "/usr/local/lib/python3.6/dist-packages/sklearn/linear_model/_coordinate_descent.py:460: ConvergenceWarning: Objective did not converge. You might want to increase the number of iterations. Duality gap: 0.0, tolerance: 0.0\n",
            "  max_iter, tol, rng, random, positive)\n",
            "# items covered: 100% 1674/1682 [00:11<00:00, 39.09it/s]/usr/local/lib/python3.6/dist-packages/sklearn/linear_model/_coordinate_descent.py:460: ConvergenceWarning: Objective did not converge. You might want to increase the number of iterations. Duality gap: 0.0, tolerance: 0.0\n",
            "  max_iter, tol, rng, random, positive)\n",
            "# items covered: 100% 1682/1682 [00:11<00:00, 150.49it/s]\n",
            "[Epoch   1/  1, epoch time: 11.64, train_time: 11.24] loss = 0.0000, Prec@100=0.1296 Recall@100=0.6688 NDCG@100=0.5129 Nov@100=2.7471 Gini-D=0.3784\n",
            "Training Finished.\n",
            "[Best score at epoch 1] Prec@100 = 0.1296 Recall@100 = 0.6688 NDCG@100 = 0.5129 Nov@100 = 2.7471 Gini-D = 0.3784\n"
          ],
          "name": "stdout"
        }
      ]
    },
    {
      "cell_type": "code",
      "metadata": {
        "id": "L1pi2VIpuy6u",
        "colab_type": "code",
        "colab": {}
      },
      "source": [
        ""
      ],
      "execution_count": 0,
      "outputs": []
    },
    {
      "cell_type": "code",
      "metadata": {
        "id": "hzYMCsi_uy9t",
        "colab_type": "code",
        "colab": {}
      },
      "source": [
        ""
      ],
      "execution_count": 0,
      "outputs": []
    },
    {
      "cell_type": "code",
      "metadata": {
        "id": "HRwH5GdcuzAV",
        "colab_type": "code",
        "colab": {}
      },
      "source": [
        ""
      ],
      "execution_count": 0,
      "outputs": []
    }
  ]
}